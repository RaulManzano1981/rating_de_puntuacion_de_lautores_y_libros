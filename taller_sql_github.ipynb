{
 "cells": [
  {
   "cell_type": "markdown",
   "id": "9a590fa1",
   "metadata": {},
   "source": [
    "## Rating de puntuación de autores y libros\n",
    "\n",
    "En el contexto de la era digital, aun los libros forman parte importante en la adquisición de conocimiento y entretenimiento. A partir de marzo de 2020 la compra de libros mostró un aumento por un evento mundial. \n",
    "\n",
    "A continuación estudiaremos extrayendo desde una base de datos la información referente a libros, editoriales, reseñas de usuarios y puntuaciones obtenidas.\n",
    "\n",
    "### Contenido\n",
    "\n",
    "* Objetivos de estudio\n",
    "\n",
    "* Importación de librerias\n",
    "\n",
    "* Conexión a la base de datos\n",
    "\n",
    "* Estudio exploratorio de las tablas\n",
    "\n",
    "* Desarrollo\n",
    "\n",
    "    * Encuentra el número de libros publicados después del 1 de enero de 2000.\n",
    "    * Encuentra el número de reseñas de usuarios y la calificación promedio para cada libro.\n",
    "    * Identifica la editorial que ha publicado el mayor número de libros con más de 50 páginas\n",
    "    * Identifica al autor que tiene la más alta calificación promedio del libro: mira solo los libros con al menos 50  calificaciones.\n",
    "    * Encuentra el número promedio de reseñas de texto entre los usuarios que calificaron más de 50 libros.\n",
    "\n",
    "* Resumen"
   ]
  },
  {
   "cell_type": "markdown",
   "id": "6c29e31f",
   "metadata": {},
   "source": [
    "### Objetivos del estudio.\n",
    "\n",
    "En esta sección se trabajará con bases de datos de editoriales, información de libros y autores.\n",
    "\n",
    "* Cargar los dataset que estan alojados en la base de datos \n",
    "\n",
    "* Realizar el analisis de la información contenida.\n",
    "\n",
    "* Encontrar el número de libros publicados a partir de una fecha determinada.\n",
    "\n",
    "* Determinar que autores tienen la mayor puntuación.\n",
    "\n",
    "* Encuentrar el número promedio de reseñas de texto entre los usuarios que calificaron más de 50 libros."
   ]
  },
  {
   "cell_type": "markdown",
   "id": "615b3fe8",
   "metadata": {},
   "source": [
    "En el siguiente link esta el diagrama de la base de datos que se manejará en el proyecto"
   ]
  },
  {
   "cell_type": "markdown",
   "id": "f1786ddf",
   "metadata": {},
   "source": [
    " ! [Imagen](https://drive.google.com/file/d/1Q3RptmyEt47578SN-RvDTndpDTLaIxEC/view?usp=sharing)"
   ]
  },
  {
   "cell_type": "markdown",
   "id": "dcef493d",
   "metadata": {},
   "source": [
    "### Importar las librerias"
   ]
  },
  {
   "cell_type": "code",
   "execution_count": 1,
   "id": "150cbf13",
   "metadata": {},
   "outputs": [],
   "source": [
    "# importar librerías\n",
    "import pandas as pd\n",
    "from sqlalchemy import create_engine\n",
    "from PIL import Image "
   ]
  },
  {
   "cell_type": "markdown",
   "id": "e406a1dd",
   "metadata": {},
   "source": [
    "### Conexion a la base de datos"
   ]
  },
  {
   "cell_type": "code",
   "execution_count": 2,
   "id": "e42cab20",
   "metadata": {},
   "outputs": [],
   "source": [
    "db_config = {'user': 'practicum_student', # nombre de usuario\n",
    "'pwd': 's65BlTKV3faNIGhmvJVzOqhs', # contraseña\n",
    "'host': 'rc1b-wcoijxj3yxfsf3fs.mdb.yandexcloud.net',\n",
    "'port': 6432, # puerto de conexión\n",
    "'db': 'data-analyst-final-project-db'} # nombre de la base de datos\n",
    "connection_string = 'postgresql://{}:{}@{}:{}/{}'.format(db_config['user'],\n",
    "db_config['pwd'],\n",
    "db_config['host'],\n",
    "db_config['port'],\n",
    "db_config['db'])\n",
    "engine = create_engine(connection_string, connect_args={'sslmode':'require'})"
   ]
  },
  {
   "cell_type": "markdown",
   "id": "5276ba4f",
   "metadata": {},
   "source": [
    "### Estudio exploratorio de las tablas"
   ]
  },
  {
   "cell_type": "markdown",
   "id": "26c21d82",
   "metadata": {},
   "source": [
    "#### Estudio de la tabla *books*"
   ]
  },
  {
   "cell_type": "code",
   "execution_count": 3,
   "id": "c08e5a9b",
   "metadata": {},
   "outputs": [
    {
     "data": {
      "text/html": [
       "<div>\n",
       "<style scoped>\n",
       "    .dataframe tbody tr th:only-of-type {\n",
       "        vertical-align: middle;\n",
       "    }\n",
       "\n",
       "    .dataframe tbody tr th {\n",
       "        vertical-align: top;\n",
       "    }\n",
       "\n",
       "    .dataframe thead th {\n",
       "        text-align: right;\n",
       "    }\n",
       "</style>\n",
       "<table border=\"1\" class=\"dataframe\">\n",
       "  <thead>\n",
       "    <tr style=\"text-align: right;\">\n",
       "      <th></th>\n",
       "      <th>book_id</th>\n",
       "      <th>author_id</th>\n",
       "      <th>title</th>\n",
       "      <th>num_pages</th>\n",
       "      <th>publication_date</th>\n",
       "      <th>publisher_id</th>\n",
       "    </tr>\n",
       "  </thead>\n",
       "  <tbody>\n",
       "    <tr>\n",
       "      <th>0</th>\n",
       "      <td>1</td>\n",
       "      <td>546</td>\n",
       "      <td>'Salem's Lot</td>\n",
       "      <td>594</td>\n",
       "      <td>2005-11-01</td>\n",
       "      <td>93</td>\n",
       "    </tr>\n",
       "    <tr>\n",
       "      <th>1</th>\n",
       "      <td>2</td>\n",
       "      <td>465</td>\n",
       "      <td>1 000 Places to See Before You Die</td>\n",
       "      <td>992</td>\n",
       "      <td>2003-05-22</td>\n",
       "      <td>336</td>\n",
       "    </tr>\n",
       "    <tr>\n",
       "      <th>2</th>\n",
       "      <td>3</td>\n",
       "      <td>407</td>\n",
       "      <td>13 Little Blue Envelopes (Little Blue Envelope...</td>\n",
       "      <td>322</td>\n",
       "      <td>2010-12-21</td>\n",
       "      <td>135</td>\n",
       "    </tr>\n",
       "    <tr>\n",
       "      <th>3</th>\n",
       "      <td>4</td>\n",
       "      <td>82</td>\n",
       "      <td>1491: New Revelations of the Americas Before C...</td>\n",
       "      <td>541</td>\n",
       "      <td>2006-10-10</td>\n",
       "      <td>309</td>\n",
       "    </tr>\n",
       "    <tr>\n",
       "      <th>4</th>\n",
       "      <td>5</td>\n",
       "      <td>125</td>\n",
       "      <td>1776</td>\n",
       "      <td>386</td>\n",
       "      <td>2006-07-04</td>\n",
       "      <td>268</td>\n",
       "    </tr>\n",
       "  </tbody>\n",
       "</table>\n",
       "</div>"
      ],
      "text/plain": [
       "   book_id  author_id                                              title  \\\n",
       "0        1        546                                       'Salem's Lot   \n",
       "1        2        465                 1 000 Places to See Before You Die   \n",
       "2        3        407  13 Little Blue Envelopes (Little Blue Envelope...   \n",
       "3        4         82  1491: New Revelations of the Americas Before C...   \n",
       "4        5        125                                               1776   \n",
       "\n",
       "   num_pages publication_date  publisher_id  \n",
       "0        594       2005-11-01            93  \n",
       "1        992       2003-05-22           336  \n",
       "2        322       2010-12-21           135  \n",
       "3        541       2006-10-10           309  \n",
       "4        386       2006-07-04           268  "
      ]
     },
     "execution_count": 3,
     "metadata": {},
     "output_type": "execute_result"
    }
   ],
   "source": [
    "#Estudiamos la tabla books\n",
    "consulta=\"\"\" SELECT *\n",
    "            FROM books  \"\"\"\n",
    "\n",
    "resultado= pd.io.sql.read_sql(consulta, con = engine)\n",
    "\n",
    "\n",
    "resultado.head()"
   ]
  },
  {
   "cell_type": "markdown",
   "id": "481e9060",
   "metadata": {},
   "source": [
    "##### Determinar si hay valores en blanco o Null"
   ]
  },
  {
   "cell_type": "code",
   "execution_count": 4,
   "id": "df140dad",
   "metadata": {},
   "outputs": [
    {
     "data": {
      "text/html": [
       "<div>\n",
       "<style scoped>\n",
       "    .dataframe tbody tr th:only-of-type {\n",
       "        vertical-align: middle;\n",
       "    }\n",
       "\n",
       "    .dataframe tbody tr th {\n",
       "        vertical-align: top;\n",
       "    }\n",
       "\n",
       "    .dataframe thead th {\n",
       "        text-align: right;\n",
       "    }\n",
       "</style>\n",
       "<table border=\"1\" class=\"dataframe\">\n",
       "  <thead>\n",
       "    <tr style=\"text-align: right;\">\n",
       "      <th></th>\n",
       "      <th>book_id</th>\n",
       "      <th>author_id</th>\n",
       "      <th>title</th>\n",
       "      <th>num_pages</th>\n",
       "      <th>publication_date</th>\n",
       "      <th>publisher_id</th>\n",
       "    </tr>\n",
       "  </thead>\n",
       "  <tbody>\n",
       "  </tbody>\n",
       "</table>\n",
       "</div>"
      ],
      "text/plain": [
       "Empty DataFrame\n",
       "Columns: [book_id, author_id, title, num_pages, publication_date, publisher_id]\n",
       "Index: []"
      ]
     },
     "metadata": {},
     "output_type": "display_data"
    }
   ],
   "source": [
    "#Busqueda de valores Null o en blanco\n",
    "consulta=\"\"\" SELECT * \n",
    "            FROM books where title = 'NULL' or  title = ''  \"\"\"\n",
    "\n",
    "resultado= pd.io.sql.read_sql(consulta, con = engine)\n",
    "\n",
    "\n",
    "display(resultado)"
   ]
  },
  {
   "cell_type": "markdown",
   "id": "907112af",
   "metadata": {},
   "source": [
    "No se han encontrado valores en blanco o filas que contengan valores Null"
   ]
  },
  {
   "cell_type": "markdown",
   "id": "c4524398",
   "metadata": {},
   "source": [
    "##### Busqueda de duplicados"
   ]
  },
  {
   "cell_type": "code",
   "execution_count": 5,
   "id": "c5495106",
   "metadata": {},
   "outputs": [
    {
     "data": {
      "text/html": [
       "<div>\n",
       "<style scoped>\n",
       "    .dataframe tbody tr th:only-of-type {\n",
       "        vertical-align: middle;\n",
       "    }\n",
       "\n",
       "    .dataframe tbody tr th {\n",
       "        vertical-align: top;\n",
       "    }\n",
       "\n",
       "    .dataframe thead th {\n",
       "        text-align: right;\n",
       "    }\n",
       "</style>\n",
       "<table border=\"1\" class=\"dataframe\">\n",
       "  <thead>\n",
       "    <tr style=\"text-align: right;\">\n",
       "      <th></th>\n",
       "      <th>title</th>\n",
       "    </tr>\n",
       "  </thead>\n",
       "  <tbody>\n",
       "    <tr>\n",
       "      <th>0</th>\n",
       "      <td>Memoirs of a Geisha</td>\n",
       "    </tr>\n",
       "  </tbody>\n",
       "</table>\n",
       "</div>"
      ],
      "text/plain": [
       "                 title\n",
       "0  Memoirs of a Geisha"
      ]
     },
     "execution_count": 5,
     "metadata": {},
     "output_type": "execute_result"
    }
   ],
   "source": [
    "#Busqueda de filas duplicados\n",
    "consulta=\"\"\" SELECT title FROM books\n",
    "            group by title\n",
    "            HAVING COUNT(*)> 1 \"\"\"\n",
    "\n",
    "resultado= pd.io.sql.read_sql(consulta, con = engine)\n",
    "    \n",
    "\n",
    "resultado"
   ]
  },
  {
   "cell_type": "markdown",
   "id": "cdafc265",
   "metadata": {},
   "source": [
    "Ha aparecido Memoirs of a Geisha, exploraremos si en realidad esta duplicado este libro"
   ]
  },
  {
   "cell_type": "code",
   "execution_count": 6,
   "id": "f915e597",
   "metadata": {},
   "outputs": [
    {
     "data": {
      "text/html": [
       "<div>\n",
       "<style scoped>\n",
       "    .dataframe tbody tr th:only-of-type {\n",
       "        vertical-align: middle;\n",
       "    }\n",
       "\n",
       "    .dataframe tbody tr th {\n",
       "        vertical-align: top;\n",
       "    }\n",
       "\n",
       "    .dataframe thead th {\n",
       "        text-align: right;\n",
       "    }\n",
       "</style>\n",
       "<table border=\"1\" class=\"dataframe\">\n",
       "  <thead>\n",
       "    <tr style=\"text-align: right;\">\n",
       "      <th></th>\n",
       "      <th>book_id</th>\n",
       "      <th>author_id</th>\n",
       "      <th>title</th>\n",
       "      <th>num_pages</th>\n",
       "      <th>publication_date</th>\n",
       "      <th>publisher_id</th>\n",
       "    </tr>\n",
       "  </thead>\n",
       "  <tbody>\n",
       "    <tr>\n",
       "      <th>0</th>\n",
       "      <td>426</td>\n",
       "      <td>39</td>\n",
       "      <td>Memoirs of a Geisha</td>\n",
       "      <td>434</td>\n",
       "      <td>2005-11-15</td>\n",
       "      <td>241</td>\n",
       "    </tr>\n",
       "    <tr>\n",
       "      <th>1</th>\n",
       "      <td>427</td>\n",
       "      <td>39</td>\n",
       "      <td>Memoirs of a Geisha</td>\n",
       "      <td>503</td>\n",
       "      <td>2005-11-22</td>\n",
       "      <td>311</td>\n",
       "    </tr>\n",
       "  </tbody>\n",
       "</table>\n",
       "</div>"
      ],
      "text/plain": [
       "   book_id  author_id                title  num_pages publication_date  \\\n",
       "0      426         39  Memoirs of a Geisha        434       2005-11-15   \n",
       "1      427         39  Memoirs of a Geisha        503       2005-11-22   \n",
       "\n",
       "   publisher_id  \n",
       "0           241  \n",
       "1           311  "
      ]
     },
     "execution_count": 6,
     "metadata": {},
     "output_type": "execute_result"
    }
   ],
   "source": [
    "#Estudiamos la tabla books\n",
    "consulta=\"\"\" SELECT * FROM books\n",
    "            where title = 'Memoirs of a Geisha' \"\"\"\n",
    "\n",
    "resultado= pd.io.sql.read_sql(consulta, con = engine)\n",
    "    \n",
    "\n",
    "resultado"
   ]
  },
  {
   "cell_type": "markdown",
   "id": "b66fa175",
   "metadata": {},
   "source": [
    "Se observa que no la misma fila repetida, ya que el numero de pagina es diferente en ambos y el número de identificador de la editorial es diferente, asi que no es una fila duplicada. "
   ]
  },
  {
   "cell_type": "markdown",
   "id": "1df16aae",
   "metadata": {},
   "source": [
    "#### Estudio de la tabla *authors*"
   ]
  },
  {
   "cell_type": "code",
   "execution_count": 7,
   "id": "5f6b7fcc",
   "metadata": {},
   "outputs": [
    {
     "data": {
      "text/html": [
       "<div>\n",
       "<style scoped>\n",
       "    .dataframe tbody tr th:only-of-type {\n",
       "        vertical-align: middle;\n",
       "    }\n",
       "\n",
       "    .dataframe tbody tr th {\n",
       "        vertical-align: top;\n",
       "    }\n",
       "\n",
       "    .dataframe thead th {\n",
       "        text-align: right;\n",
       "    }\n",
       "</style>\n",
       "<table border=\"1\" class=\"dataframe\">\n",
       "  <thead>\n",
       "    <tr style=\"text-align: right;\">\n",
       "      <th></th>\n",
       "      <th>author_id</th>\n",
       "      <th>author</th>\n",
       "    </tr>\n",
       "  </thead>\n",
       "  <tbody>\n",
       "    <tr>\n",
       "      <th>0</th>\n",
       "      <td>1</td>\n",
       "      <td>A.S. Byatt</td>\n",
       "    </tr>\n",
       "    <tr>\n",
       "      <th>1</th>\n",
       "      <td>2</td>\n",
       "      <td>Aesop/Laura Harris/Laura Gibbs</td>\n",
       "    </tr>\n",
       "    <tr>\n",
       "      <th>2</th>\n",
       "      <td>3</td>\n",
       "      <td>Agatha Christie</td>\n",
       "    </tr>\n",
       "    <tr>\n",
       "      <th>3</th>\n",
       "      <td>4</td>\n",
       "      <td>Alan Brennert</td>\n",
       "    </tr>\n",
       "    <tr>\n",
       "      <th>4</th>\n",
       "      <td>5</td>\n",
       "      <td>Alan Moore/David   Lloyd</td>\n",
       "    </tr>\n",
       "  </tbody>\n",
       "</table>\n",
       "</div>"
      ],
      "text/plain": [
       "   author_id                          author\n",
       "0          1                      A.S. Byatt\n",
       "1          2  Aesop/Laura Harris/Laura Gibbs\n",
       "2          3                 Agatha Christie\n",
       "3          4                   Alan Brennert\n",
       "4          5        Alan Moore/David   Lloyd"
      ]
     },
     "execution_count": 7,
     "metadata": {},
     "output_type": "execute_result"
    }
   ],
   "source": [
    "#Estudiamos la tabla authors\n",
    "consulta=\"\"\" SELECT *\n",
    "            FROM authors  \"\"\"\n",
    "\n",
    "resultado= pd.io.sql.read_sql(consulta, con = engine)\n",
    "\n",
    "\n",
    "resultado.head()"
   ]
  },
  {
   "cell_type": "markdown",
   "id": "4645dc9a",
   "metadata": {},
   "source": [
    "##### Determinar si hay valores en blanco o Null"
   ]
  },
  {
   "cell_type": "code",
   "execution_count": 8,
   "id": "4cf33fec",
   "metadata": {},
   "outputs": [
    {
     "data": {
      "text/html": [
       "<div>\n",
       "<style scoped>\n",
       "    .dataframe tbody tr th:only-of-type {\n",
       "        vertical-align: middle;\n",
       "    }\n",
       "\n",
       "    .dataframe tbody tr th {\n",
       "        vertical-align: top;\n",
       "    }\n",
       "\n",
       "    .dataframe thead th {\n",
       "        text-align: right;\n",
       "    }\n",
       "</style>\n",
       "<table border=\"1\" class=\"dataframe\">\n",
       "  <thead>\n",
       "    <tr style=\"text-align: right;\">\n",
       "      <th></th>\n",
       "      <th>author_id</th>\n",
       "      <th>author</th>\n",
       "    </tr>\n",
       "  </thead>\n",
       "  <tbody>\n",
       "  </tbody>\n",
       "</table>\n",
       "</div>"
      ],
      "text/plain": [
       "Empty DataFrame\n",
       "Columns: [author_id, author]\n",
       "Index: []"
      ]
     },
     "execution_count": 8,
     "metadata": {},
     "output_type": "execute_result"
    }
   ],
   "source": [
    "#Estudiamos la tabla authors\n",
    "consulta=\"\"\" SELECT * \n",
    "            FROM authors where author = 'NULL' or  author = ''  \"\"\"\n",
    "\n",
    "resultado= pd.io.sql.read_sql(consulta, con = engine)\n",
    "\n",
    "\n",
    "resultado"
   ]
  },
  {
   "cell_type": "markdown",
   "id": "7e37abf5",
   "metadata": {},
   "source": [
    "No hay valores en blanco o Null"
   ]
  },
  {
   "cell_type": "markdown",
   "id": "b0e2b477",
   "metadata": {},
   "source": [
    "##### Busqueda de autores duplicados"
   ]
  },
  {
   "cell_type": "code",
   "execution_count": 9,
   "id": "2559386b",
   "metadata": {},
   "outputs": [
    {
     "data": {
      "text/html": [
       "<div>\n",
       "<style scoped>\n",
       "    .dataframe tbody tr th:only-of-type {\n",
       "        vertical-align: middle;\n",
       "    }\n",
       "\n",
       "    .dataframe tbody tr th {\n",
       "        vertical-align: top;\n",
       "    }\n",
       "\n",
       "    .dataframe thead th {\n",
       "        text-align: right;\n",
       "    }\n",
       "</style>\n",
       "<table border=\"1\" class=\"dataframe\">\n",
       "  <thead>\n",
       "    <tr style=\"text-align: right;\">\n",
       "      <th></th>\n",
       "      <th>author</th>\n",
       "    </tr>\n",
       "  </thead>\n",
       "  <tbody>\n",
       "  </tbody>\n",
       "</table>\n",
       "</div>"
      ],
      "text/plain": [
       "Empty DataFrame\n",
       "Columns: [author]\n",
       "Index: []"
      ]
     },
     "execution_count": 9,
     "metadata": {},
     "output_type": "execute_result"
    }
   ],
   "source": [
    "#Buscando los duplicados en authors\n",
    "consulta=\"\"\" SELECT author FROM authors\n",
    "            group by author\n",
    "            HAVING COUNT(*)> 1 \"\"\"\n",
    "\n",
    "resultado= pd.io.sql.read_sql(consulta, con = engine)\n",
    "    \n",
    "\n",
    "resultado"
   ]
  },
  {
   "cell_type": "markdown",
   "id": "f742833e",
   "metadata": {},
   "source": [
    "No se encontraron autores duplicados en la tabla"
   ]
  },
  {
   "cell_type": "markdown",
   "id": "afc2813e",
   "metadata": {},
   "source": [
    "#### Estudio de la tabla publishers"
   ]
  },
  {
   "cell_type": "code",
   "execution_count": 10,
   "id": "62b9cf2e",
   "metadata": {},
   "outputs": [
    {
     "data": {
      "text/html": [
       "<div>\n",
       "<style scoped>\n",
       "    .dataframe tbody tr th:only-of-type {\n",
       "        vertical-align: middle;\n",
       "    }\n",
       "\n",
       "    .dataframe tbody tr th {\n",
       "        vertical-align: top;\n",
       "    }\n",
       "\n",
       "    .dataframe thead th {\n",
       "        text-align: right;\n",
       "    }\n",
       "</style>\n",
       "<table border=\"1\" class=\"dataframe\">\n",
       "  <thead>\n",
       "    <tr style=\"text-align: right;\">\n",
       "      <th></th>\n",
       "      <th>publisher_id</th>\n",
       "      <th>publisher</th>\n",
       "    </tr>\n",
       "  </thead>\n",
       "  <tbody>\n",
       "    <tr>\n",
       "      <th>0</th>\n",
       "      <td>1</td>\n",
       "      <td>Ace</td>\n",
       "    </tr>\n",
       "    <tr>\n",
       "      <th>1</th>\n",
       "      <td>2</td>\n",
       "      <td>Ace Book</td>\n",
       "    </tr>\n",
       "    <tr>\n",
       "      <th>2</th>\n",
       "      <td>3</td>\n",
       "      <td>Ace Books</td>\n",
       "    </tr>\n",
       "    <tr>\n",
       "      <th>3</th>\n",
       "      <td>4</td>\n",
       "      <td>Ace Hardcover</td>\n",
       "    </tr>\n",
       "    <tr>\n",
       "      <th>4</th>\n",
       "      <td>5</td>\n",
       "      <td>Addison Wesley Publishing Company</td>\n",
       "    </tr>\n",
       "  </tbody>\n",
       "</table>\n",
       "</div>"
      ],
      "text/plain": [
       "   publisher_id                          publisher\n",
       "0             1                                Ace\n",
       "1             2                           Ace Book\n",
       "2             3                          Ace Books\n",
       "3             4                      Ace Hardcover\n",
       "4             5  Addison Wesley Publishing Company"
      ]
     },
     "execution_count": 10,
     "metadata": {},
     "output_type": "execute_result"
    }
   ],
   "source": [
    "#Estudiamos la tabla publishers\n",
    "consulta=\"\"\" SELECT *\n",
    "            FROM publishers  \"\"\"\n",
    "\n",
    "resultado= pd.io.sql.read_sql(consulta, con = engine)\n",
    "\n",
    "\n",
    "resultado.head()"
   ]
  },
  {
   "cell_type": "markdown",
   "id": "1e3f1e2c",
   "metadata": {},
   "source": [
    "##### Busqueda de valores en blanco o Null"
   ]
  },
  {
   "cell_type": "code",
   "execution_count": 11,
   "id": "dc13f374",
   "metadata": {},
   "outputs": [
    {
     "data": {
      "text/html": [
       "<div>\n",
       "<style scoped>\n",
       "    .dataframe tbody tr th:only-of-type {\n",
       "        vertical-align: middle;\n",
       "    }\n",
       "\n",
       "    .dataframe tbody tr th {\n",
       "        vertical-align: top;\n",
       "    }\n",
       "\n",
       "    .dataframe thead th {\n",
       "        text-align: right;\n",
       "    }\n",
       "</style>\n",
       "<table border=\"1\" class=\"dataframe\">\n",
       "  <thead>\n",
       "    <tr style=\"text-align: right;\">\n",
       "      <th></th>\n",
       "      <th>publisher_id</th>\n",
       "      <th>publisher</th>\n",
       "    </tr>\n",
       "  </thead>\n",
       "  <tbody>\n",
       "  </tbody>\n",
       "</table>\n",
       "</div>"
      ],
      "text/plain": [
       "Empty DataFrame\n",
       "Columns: [publisher_id, publisher]\n",
       "Index: []"
      ]
     },
     "metadata": {},
     "output_type": "display_data"
    }
   ],
   "source": [
    "#Estudiamos la tabla publishers para valores en blanco o null\n",
    "consulta=\"\"\" SELECT * \n",
    "            FROM publishers where publisher = 'NULL' or  publisher = ''  \"\"\"\n",
    "\n",
    "resultado= pd.io.sql.read_sql(consulta, con = engine)\n",
    "\n",
    "\n",
    "display(resultado)"
   ]
  },
  {
   "cell_type": "markdown",
   "id": "b7a5e07e",
   "metadata": {},
   "source": [
    "No se encontraron valores en blanco o Null en la tabla"
   ]
  },
  {
   "cell_type": "markdown",
   "id": "04c432ce",
   "metadata": {},
   "source": [
    "##### Busqueda de filas duplicadas"
   ]
  },
  {
   "cell_type": "code",
   "execution_count": 12,
   "id": "1efd1da7",
   "metadata": {},
   "outputs": [
    {
     "data": {
      "text/html": [
       "<div>\n",
       "<style scoped>\n",
       "    .dataframe tbody tr th:only-of-type {\n",
       "        vertical-align: middle;\n",
       "    }\n",
       "\n",
       "    .dataframe tbody tr th {\n",
       "        vertical-align: top;\n",
       "    }\n",
       "\n",
       "    .dataframe thead th {\n",
       "        text-align: right;\n",
       "    }\n",
       "</style>\n",
       "<table border=\"1\" class=\"dataframe\">\n",
       "  <thead>\n",
       "    <tr style=\"text-align: right;\">\n",
       "      <th></th>\n",
       "      <th>publisher</th>\n",
       "    </tr>\n",
       "  </thead>\n",
       "  <tbody>\n",
       "  </tbody>\n",
       "</table>\n",
       "</div>"
      ],
      "text/plain": [
       "Empty DataFrame\n",
       "Columns: [publisher]\n",
       "Index: []"
      ]
     },
     "metadata": {},
     "output_type": "display_data"
    }
   ],
   "source": [
    "#Estudiamos la tabla publishers buscando filas duplicadas\n",
    "consulta=\"\"\" SELECT publisher FROM publishers\n",
    "            group by publisher\n",
    "            HAVING COUNT(*)> 1 \"\"\"\n",
    "\n",
    "resultado= pd.io.sql.read_sql(consulta, con = engine)\n",
    "    \n",
    "\n",
    "display(resultado)"
   ]
  },
  {
   "cell_type": "markdown",
   "id": "171fec89",
   "metadata": {},
   "source": [
    "No se encontraron filas que tuvieran nombres de las editoriales duplicados"
   ]
  },
  {
   "cell_type": "markdown",
   "id": "25aeb0cd",
   "metadata": {},
   "source": [
    "#### Estudio de la tabla ratings"
   ]
  },
  {
   "cell_type": "code",
   "execution_count": 13,
   "id": "9406f738",
   "metadata": {},
   "outputs": [
    {
     "data": {
      "text/html": [
       "<div>\n",
       "<style scoped>\n",
       "    .dataframe tbody tr th:only-of-type {\n",
       "        vertical-align: middle;\n",
       "    }\n",
       "\n",
       "    .dataframe tbody tr th {\n",
       "        vertical-align: top;\n",
       "    }\n",
       "\n",
       "    .dataframe thead th {\n",
       "        text-align: right;\n",
       "    }\n",
       "</style>\n",
       "<table border=\"1\" class=\"dataframe\">\n",
       "  <thead>\n",
       "    <tr style=\"text-align: right;\">\n",
       "      <th></th>\n",
       "      <th>rating_id</th>\n",
       "      <th>book_id</th>\n",
       "      <th>username</th>\n",
       "      <th>rating</th>\n",
       "    </tr>\n",
       "  </thead>\n",
       "  <tbody>\n",
       "    <tr>\n",
       "      <th>0</th>\n",
       "      <td>1</td>\n",
       "      <td>1</td>\n",
       "      <td>ryanfranco</td>\n",
       "      <td>4</td>\n",
       "    </tr>\n",
       "    <tr>\n",
       "      <th>1</th>\n",
       "      <td>2</td>\n",
       "      <td>1</td>\n",
       "      <td>grantpatricia</td>\n",
       "      <td>2</td>\n",
       "    </tr>\n",
       "    <tr>\n",
       "      <th>2</th>\n",
       "      <td>3</td>\n",
       "      <td>1</td>\n",
       "      <td>brandtandrea</td>\n",
       "      <td>5</td>\n",
       "    </tr>\n",
       "    <tr>\n",
       "      <th>3</th>\n",
       "      <td>4</td>\n",
       "      <td>2</td>\n",
       "      <td>lorichen</td>\n",
       "      <td>3</td>\n",
       "    </tr>\n",
       "    <tr>\n",
       "      <th>4</th>\n",
       "      <td>5</td>\n",
       "      <td>2</td>\n",
       "      <td>mariokeller</td>\n",
       "      <td>2</td>\n",
       "    </tr>\n",
       "  </tbody>\n",
       "</table>\n",
       "</div>"
      ],
      "text/plain": [
       "   rating_id  book_id       username  rating\n",
       "0          1        1     ryanfranco       4\n",
       "1          2        1  grantpatricia       2\n",
       "2          3        1   brandtandrea       5\n",
       "3          4        2       lorichen       3\n",
       "4          5        2    mariokeller       2"
      ]
     },
     "metadata": {},
     "output_type": "display_data"
    }
   ],
   "source": [
    "#Estudiamos la tabla ratings\n",
    "consulta=\"\"\" SELECT *\n",
    "            FROM ratings  \"\"\"\n",
    "\n",
    "resultado= pd.io.sql.read_sql(consulta, con = engine)\n",
    "\n",
    "\n",
    "display(resultado.head())"
   ]
  },
  {
   "cell_type": "markdown",
   "id": "fc7c974f",
   "metadata": {},
   "source": [
    "##### Busqueda de datos en blanco o Null"
   ]
  },
  {
   "cell_type": "code",
   "execution_count": 14,
   "id": "07077084",
   "metadata": {},
   "outputs": [
    {
     "data": {
      "text/html": [
       "<div>\n",
       "<style scoped>\n",
       "    .dataframe tbody tr th:only-of-type {\n",
       "        vertical-align: middle;\n",
       "    }\n",
       "\n",
       "    .dataframe tbody tr th {\n",
       "        vertical-align: top;\n",
       "    }\n",
       "\n",
       "    .dataframe thead th {\n",
       "        text-align: right;\n",
       "    }\n",
       "</style>\n",
       "<table border=\"1\" class=\"dataframe\">\n",
       "  <thead>\n",
       "    <tr style=\"text-align: right;\">\n",
       "      <th></th>\n",
       "      <th>rating_id</th>\n",
       "      <th>book_id</th>\n",
       "      <th>username</th>\n",
       "      <th>rating</th>\n",
       "    </tr>\n",
       "  </thead>\n",
       "  <tbody>\n",
       "  </tbody>\n",
       "</table>\n",
       "</div>"
      ],
      "text/plain": [
       "Empty DataFrame\n",
       "Columns: [rating_id, book_id, username, rating]\n",
       "Index: []"
      ]
     },
     "metadata": {},
     "output_type": "display_data"
    }
   ],
   "source": [
    "#Estudiamos la tabla ratings\n",
    "consulta=\"\"\" SELECT * \n",
    "            FROM ratings where username = 'NULL' or  username = ''  \"\"\"\n",
    "\n",
    "resultado= pd.io.sql.read_sql(consulta, con = engine)\n",
    "\n",
    "\n",
    "display(resultado)"
   ]
  },
  {
   "cell_type": "markdown",
   "id": "d0211dbc",
   "metadata": {},
   "source": [
    "No se encontraron valores en blanco o Null en la tabla de ratings"
   ]
  },
  {
   "cell_type": "markdown",
   "id": "e46aaafb",
   "metadata": {},
   "source": [
    "##### Buscando filas duplicadas para los usuarios de los ratings"
   ]
  },
  {
   "cell_type": "code",
   "execution_count": 15,
   "id": "9f2acb03",
   "metadata": {},
   "outputs": [
    {
     "data": {
      "text/html": [
       "<div>\n",
       "<style scoped>\n",
       "    .dataframe tbody tr th:only-of-type {\n",
       "        vertical-align: middle;\n",
       "    }\n",
       "\n",
       "    .dataframe tbody tr th {\n",
       "        vertical-align: top;\n",
       "    }\n",
       "\n",
       "    .dataframe thead th {\n",
       "        text-align: right;\n",
       "    }\n",
       "</style>\n",
       "<table border=\"1\" class=\"dataframe\">\n",
       "  <thead>\n",
       "    <tr style=\"text-align: right;\">\n",
       "      <th></th>\n",
       "      <th>username_libro</th>\n",
       "    </tr>\n",
       "  </thead>\n",
       "  <tbody>\n",
       "  </tbody>\n",
       "</table>\n",
       "</div>"
      ],
      "text/plain": [
       "Empty DataFrame\n",
       "Columns: [username_libro]\n",
       "Index: []"
      ]
     },
     "metadata": {},
     "output_type": "display_data"
    }
   ],
   "source": [
    "#Busqueda de usuarios duplicados en la table ratings\n",
    "consulta=\"\"\" SELECT CONCAT(username,'_',book_id) as username_libro FROM ratings\n",
    "            group by CONCAT(username,'_',book_id)\n",
    "            HAVING COUNT(*)>1 \"\"\"\n",
    "\n",
    "resultado= pd.io.sql.read_sql(consulta, con = engine)\n",
    "    \n",
    "\n",
    "display(resultado)"
   ]
  },
  {
   "cell_type": "markdown",
   "id": "c792695d",
   "metadata": {},
   "source": [
    "No se encontraron filas duplicadas con los nombres de los usuarios en la tabla ratings"
   ]
  },
  {
   "cell_type": "markdown",
   "id": "4297a0f9",
   "metadata": {},
   "source": [
    "#### Estudio de la tabla reviews"
   ]
  },
  {
   "cell_type": "code",
   "execution_count": 16,
   "id": "ed40bf67",
   "metadata": {},
   "outputs": [
    {
     "data": {
      "text/html": [
       "<div>\n",
       "<style scoped>\n",
       "    .dataframe tbody tr th:only-of-type {\n",
       "        vertical-align: middle;\n",
       "    }\n",
       "\n",
       "    .dataframe tbody tr th {\n",
       "        vertical-align: top;\n",
       "    }\n",
       "\n",
       "    .dataframe thead th {\n",
       "        text-align: right;\n",
       "    }\n",
       "</style>\n",
       "<table border=\"1\" class=\"dataframe\">\n",
       "  <thead>\n",
       "    <tr style=\"text-align: right;\">\n",
       "      <th></th>\n",
       "      <th>review_id</th>\n",
       "      <th>book_id</th>\n",
       "      <th>username</th>\n",
       "      <th>text</th>\n",
       "    </tr>\n",
       "  </thead>\n",
       "  <tbody>\n",
       "    <tr>\n",
       "      <th>0</th>\n",
       "      <td>1</td>\n",
       "      <td>1</td>\n",
       "      <td>brandtandrea</td>\n",
       "      <td>Mention society tell send professor analysis. ...</td>\n",
       "    </tr>\n",
       "    <tr>\n",
       "      <th>1</th>\n",
       "      <td>2</td>\n",
       "      <td>1</td>\n",
       "      <td>ryanfranco</td>\n",
       "      <td>Foot glass pretty audience hit themselves. Amo...</td>\n",
       "    </tr>\n",
       "    <tr>\n",
       "      <th>2</th>\n",
       "      <td>3</td>\n",
       "      <td>2</td>\n",
       "      <td>lorichen</td>\n",
       "      <td>Listen treat keep worry. Miss husband tax but ...</td>\n",
       "    </tr>\n",
       "    <tr>\n",
       "      <th>3</th>\n",
       "      <td>4</td>\n",
       "      <td>3</td>\n",
       "      <td>johnsonamanda</td>\n",
       "      <td>Finally month interesting blue could nature cu...</td>\n",
       "    </tr>\n",
       "    <tr>\n",
       "      <th>4</th>\n",
       "      <td>5</td>\n",
       "      <td>3</td>\n",
       "      <td>scotttamara</td>\n",
       "      <td>Nation purpose heavy give wait song will. List...</td>\n",
       "    </tr>\n",
       "  </tbody>\n",
       "</table>\n",
       "</div>"
      ],
      "text/plain": [
       "   review_id  book_id       username  \\\n",
       "0          1        1   brandtandrea   \n",
       "1          2        1     ryanfranco   \n",
       "2          3        2       lorichen   \n",
       "3          4        3  johnsonamanda   \n",
       "4          5        3    scotttamara   \n",
       "\n",
       "                                                text  \n",
       "0  Mention society tell send professor analysis. ...  \n",
       "1  Foot glass pretty audience hit themselves. Amo...  \n",
       "2  Listen treat keep worry. Miss husband tax but ...  \n",
       "3  Finally month interesting blue could nature cu...  \n",
       "4  Nation purpose heavy give wait song will. List...  "
      ]
     },
     "execution_count": 16,
     "metadata": {},
     "output_type": "execute_result"
    }
   ],
   "source": [
    "#Estudiamos la tabla reviews\n",
    "consulta=\"\"\" SELECT *\n",
    "            FROM reviews  \"\"\"\n",
    "\n",
    "resultado= pd.io.sql.read_sql(consulta, con = engine)\n",
    "\n",
    "#print(resultado)\n",
    "resultado.head()"
   ]
  },
  {
   "cell_type": "markdown",
   "id": "8399767e",
   "metadata": {},
   "source": [
    "##### Buscamos valores en blanco o Null "
   ]
  },
  {
   "cell_type": "code",
   "execution_count": 17,
   "id": "665121a8",
   "metadata": {},
   "outputs": [
    {
     "data": {
      "text/html": [
       "<div>\n",
       "<style scoped>\n",
       "    .dataframe tbody tr th:only-of-type {\n",
       "        vertical-align: middle;\n",
       "    }\n",
       "\n",
       "    .dataframe tbody tr th {\n",
       "        vertical-align: top;\n",
       "    }\n",
       "\n",
       "    .dataframe thead th {\n",
       "        text-align: right;\n",
       "    }\n",
       "</style>\n",
       "<table border=\"1\" class=\"dataframe\">\n",
       "  <thead>\n",
       "    <tr style=\"text-align: right;\">\n",
       "      <th></th>\n",
       "      <th>review_id</th>\n",
       "      <th>book_id</th>\n",
       "      <th>username</th>\n",
       "      <th>text</th>\n",
       "    </tr>\n",
       "  </thead>\n",
       "  <tbody>\n",
       "  </tbody>\n",
       "</table>\n",
       "</div>"
      ],
      "text/plain": [
       "Empty DataFrame\n",
       "Columns: [review_id, book_id, username, text]\n",
       "Index: []"
      ]
     },
     "metadata": {},
     "output_type": "display_data"
    }
   ],
   "source": [
    "#Estudiamos la tabla reviews\n",
    "consulta=\"\"\" SELECT * \n",
    "            FROM reviews where text = 'NULL' or  text = ''  \"\"\"\n",
    "\n",
    "resultado= pd.io.sql.read_sql(consulta, con = engine)\n",
    "\n",
    "\n",
    "display(resultado)"
   ]
  },
  {
   "cell_type": "markdown",
   "id": "0cf8818a",
   "metadata": {},
   "source": [
    "No se encontraron valores en blanco o null en la tabla"
   ]
  },
  {
   "cell_type": "markdown",
   "id": "51e88d45",
   "metadata": {},
   "source": [
    "##### Busqueda de filas duplicadas en la tabla reviews"
   ]
  },
  {
   "cell_type": "code",
   "execution_count": 18,
   "id": "c73abcec",
   "metadata": {},
   "outputs": [
    {
     "data": {
      "text/html": [
       "<div>\n",
       "<style scoped>\n",
       "    .dataframe tbody tr th:only-of-type {\n",
       "        vertical-align: middle;\n",
       "    }\n",
       "\n",
       "    .dataframe tbody tr th {\n",
       "        vertical-align: top;\n",
       "    }\n",
       "\n",
       "    .dataframe thead th {\n",
       "        text-align: right;\n",
       "    }\n",
       "</style>\n",
       "<table border=\"1\" class=\"dataframe\">\n",
       "  <thead>\n",
       "    <tr style=\"text-align: right;\">\n",
       "      <th></th>\n",
       "      <th>username_libro</th>\n",
       "    </tr>\n",
       "  </thead>\n",
       "  <tbody>\n",
       "  </tbody>\n",
       "</table>\n",
       "</div>"
      ],
      "text/plain": [
       "Empty DataFrame\n",
       "Columns: [username_libro]\n",
       "Index: []"
      ]
     },
     "metadata": {},
     "output_type": "display_data"
    }
   ],
   "source": [
    "#Estudiamos la tabla reviews\n",
    "consulta=\"\"\" SELECT CONCAT(username,'_',book_id) as username_libro FROM reviews\n",
    "            group by CONCAT(username,'_',book_id)\n",
    "            HAVING COUNT(*)>1 \"\"\"\n",
    "\n",
    "resultado= pd.io.sql.read_sql(consulta, con = engine)\n",
    "    \n",
    "\n",
    "display(resultado)"
   ]
  },
  {
   "cell_type": "markdown",
   "id": "ae6559ff",
   "metadata": {},
   "source": [
    "No se encontraron filas duplicadas en la tabla reviews en los usuarios"
   ]
  },
  {
   "cell_type": "markdown",
   "id": "a05b5466",
   "metadata": {},
   "source": [
    "### Desarrollo"
   ]
  },
  {
   "cell_type": "markdown",
   "id": "9f0221d7",
   "metadata": {},
   "source": [
    "#### Encontrar el número de libros publicados después del 1ro de enero de 2000"
   ]
  },
  {
   "cell_type": "code",
   "execution_count": 19,
   "id": "a1af7840",
   "metadata": {},
   "outputs": [
    {
     "data": {
      "text/html": [
       "<div>\n",
       "<style scoped>\n",
       "    .dataframe tbody tr th:only-of-type {\n",
       "        vertical-align: middle;\n",
       "    }\n",
       "\n",
       "    .dataframe tbody tr th {\n",
       "        vertical-align: top;\n",
       "    }\n",
       "\n",
       "    .dataframe thead th {\n",
       "        text-align: right;\n",
       "    }\n",
       "</style>\n",
       "<table border=\"1\" class=\"dataframe\">\n",
       "  <thead>\n",
       "    <tr style=\"text-align: right;\">\n",
       "      <th></th>\n",
       "      <th>numero_de_libros_publicados</th>\n",
       "    </tr>\n",
       "  </thead>\n",
       "  <tbody>\n",
       "    <tr>\n",
       "      <th>0</th>\n",
       "      <td>819</td>\n",
       "    </tr>\n",
       "  </tbody>\n",
       "</table>\n",
       "</div>"
      ],
      "text/plain": [
       "   numero_de_libros_publicados\n",
       "0                          819"
      ]
     },
     "metadata": {},
     "output_type": "display_data"
    }
   ],
   "source": [
    "#Encuentra el número de libros publicados después del 1 de enero de 2000.\n",
    "\n",
    "consulta=\"\"\" SELECT count(book_id) as Numero_de_Libros_Publicados\n",
    "             FROM books \n",
    "             WHERE publication_date> '2000-01-01' \"\"\"\n",
    "\n",
    "resultado= pd.io.sql.read_sql(consulta, con = engine)\n",
    "\n",
    "display(resultado)\n",
    "\n"
   ]
  },
  {
   "cell_type": "markdown",
   "id": "67a597dc",
   "metadata": {},
   "source": [
    "Se han publicado 819 libros después del 1° de enero del año 2000"
   ]
  },
  {
   "cell_type": "markdown",
   "id": "6da94639",
   "metadata": {},
   "source": [
    "#### Encuentra el número de reseñas de usuarios y la calificación promedio para cada libro"
   ]
  },
  {
   "cell_type": "code",
   "execution_count": 20,
   "id": "4d6b354d",
   "metadata": {},
   "outputs": [
    {
     "data": {
      "text/plain": [
       "(     book_id                                              libro  reseñas  \\\n",
       " 0        625  The Adventures of Tom Sawyer and Adventures of...        2   \n",
       " 1        330  How to Be a Domestic Goddess: Baking and the A...        2   \n",
       " 2        599  Stone of Farewell (Memory  Sorrow  and Thorn  #2)        2   \n",
       " 3         14     A Christmas Carol and Other Christmas Writings        2   \n",
       " 4        984                  Winter Prey (Lucas Davenport  #5)        2   \n",
       " ..       ...                                                ...      ...   \n",
       " 989      299  Harry Potter and the Chamber of Secrets (Harry...      480   \n",
       " 990      302  Harry Potter and the Prisoner of Azkaban (Harr...      492   \n",
       " 991      673                             The Catcher in the Rye      516   \n",
       " 992      750                The Hobbit  or There and Back Again      528   \n",
       " 993      948                            Twilight (Twilight  #1)     1120   \n",
       " \n",
       "      calificación  \n",
       " 0            5.00  \n",
       " 1            5.00  \n",
       " 2            5.00  \n",
       " 3            4.50  \n",
       " 4            4.50  \n",
       " ..            ...  \n",
       " 989          4.29  \n",
       " 990          4.41  \n",
       " 991          3.83  \n",
       " 992          4.13  \n",
       " 993          3.66  \n",
       " \n",
       " [994 rows x 4 columns],)"
      ]
     },
     "metadata": {},
     "output_type": "display_data"
    }
   ],
   "source": [
    "#Encuentra el número de reseñas de usuarios y la calificación promedio para cada libro.\n",
    "\n",
    "consulta=\"\"\"SELECT reviews.book_id,books.title as Libro, count(reviews.review_id) as reseñas,ROUND(AVG(ratings.rating),2) as calificación\n",
    "            FROM reviews\n",
    "            JOIN ratings ON reviews.book_id=ratings.book_id\n",
    "            JOIN books ON reviews.book_id=books.book_id\n",
    "            GROUP BY  reviews.book_id ,books.title\n",
    "            ORDER BY count(reviews.review_id) , ROUND(AVG(ratings.rating),2) DESC \"\"\"\n",
    "\n",
    "resultado= pd.io.sql.read_sql(consulta, con = engine),\n",
    "\n",
    "display(resultado)\n",
    "\n"
   ]
  },
  {
   "cell_type": "markdown",
   "id": "9328aee4",
   "metadata": {},
   "source": [
    "Se puede observar que los tres primero libros tienen la mayor calificación del dataset con 5 puntos, pero tienen solo 2 reseñas, mientras que el último libro solo tiene una clasificación de 3.66 puntos pero tiene un alto número de reseñas 1120."
   ]
  },
  {
   "cell_type": "markdown",
   "id": "a41c8401",
   "metadata": {},
   "source": [
    "#### Identifica la editorial que ha publicado el mayor número de libros con más de 50 páginas "
   ]
  },
  {
   "cell_type": "code",
   "execution_count": 21,
   "id": "326fb8c2",
   "metadata": {},
   "outputs": [
    {
     "data": {
      "text/plain": [
       "(     editorial_id                     editorial  cantidad_de_libros\n",
       " 0             212                 Penguin Books                  42\n",
       " 1             309                       Vintage                  31\n",
       " 2             116      Grand Central Publishing                  25\n",
       " 3             217              Penguin Classics                  24\n",
       " 4              33              Ballantine Books                  19\n",
       " ..            ...                           ...                 ...\n",
       " 329            34         Ballantine Books (NY)                   1\n",
       " 330           225                 Plaza y Janés                   1\n",
       " 331           138       HarperCollinsPublishers                   1\n",
       " 332           245  Random House: Modern Library                   1\n",
       " 333           205                 Pan Childrens                   1\n",
       " \n",
       " [334 rows x 3 columns],)"
      ]
     },
     "metadata": {},
     "output_type": "display_data"
    }
   ],
   "source": [
    "#Identifica la editorial que ha publicado el mayor número de libros con más de 50 páginas esto te ayudará a excluir folletos y publicaciones similares de tu análisis).\n",
    "\n",
    "consulta=\"\"\"SELECT publishers.publisher_id as Editorial_id,publishers.publisher as Editorial, Count(books.book_id) as Cantidad_de_Libros \n",
    "            FROM publishers\n",
    "            JOIN books ON publishers.publisher_id=books.publisher_id and books.num_pages>50 \n",
    "            GROUP BY  publishers.publisher_id \n",
    "            ORDER BY Count(books.book_id) DESC \"\"\"\n",
    "\n",
    "resultado= pd.io.sql.read_sql(consulta, con = engine),\n",
    "\n",
    "display(resultado)\n"
   ]
  },
  {
   "cell_type": "markdown",
   "id": "a69dccc3",
   "metadata": {},
   "source": [
    "La editorial Penguin Books es la editorial que más libros ha publicado con 42 libros, seguida por Vintage con 31 libros, de más de 50 páginas, de esta forma se han filtrado las publicaciones de tipo folleto."
   ]
  },
  {
   "cell_type": "markdown",
   "id": "2a7703b4",
   "metadata": {},
   "source": [
    "#### Identifica al autor que tiene la más alta calificación promedio del libro: mira solo los libros con al menos 50 calificaciones. \n"
   ]
  },
  {
   "cell_type": "code",
   "execution_count": 22,
   "id": "4d5b7ede",
   "metadata": {},
   "outputs": [
    {
     "data": {
      "text/plain": [
       "(    author_id                                             author  \\\n",
       " 0         236                         J.K. Rowling/Mary GrandPré   \n",
       " 1         402                  Markus Zusak/Cao Xuân Việt Khương   \n",
       " 2         240                                     J.R.R. Tolkien   \n",
       " 3         376                                  Louisa May Alcott   \n",
       " 4         498                                       Rick Riordan   \n",
       " 5         621                                    William Golding   \n",
       " 6         235                                      J.D. Salinger   \n",
       " 7         469           Paulo Coelho/Alan R. Clarke/Özdemir İnce   \n",
       " 8         630  William Shakespeare/Paul Werstine/Barbara A. M...   \n",
       " 9         372                                         Lois Lowry   \n",
       " 10        106                                          Dan Brown   \n",
       " 11        195            George Orwell/Boris Grabnar/Peter Škerl   \n",
       " 12        554                                    Stephenie Meyer   \n",
       " 13        311                                     John Steinbeck   \n",
       " \n",
       "     calificación_promedio  \n",
       " 0                    4.29  \n",
       " 1                    4.26  \n",
       " 2                    4.25  \n",
       " 3                    4.19  \n",
       " 4                    4.08  \n",
       " 5                    3.90  \n",
       " 6                    3.83  \n",
       " 7                    3.79  \n",
       " 8                    3.79  \n",
       " 9                    3.75  \n",
       " 10                   3.74  \n",
       " 11                   3.73  \n",
       " 12                   3.66  \n",
       " 13                   3.62  ,)"
      ]
     },
     "metadata": {},
     "output_type": "display_data"
    }
   ],
   "source": [
    "#Identifica al autor que tiene la más alta calificación promedio del libro: mira solo los libros con al menos 50 calificaciones.   #Count(ratings.rating)>50 and\n",
    "\n",
    "consulta=\"\"\" SELECT authors.author_id as Author_id, authors.author as Author, ROUND(AVG(ratings.rating),2) as calificación_promedio \n",
    "            FROM  authors\n",
    "            JOIN books ON  books.author_id= authors.author_id  \n",
    "            JOIN ratings ON ratings.book_id= books.book_id  WHERE ratings.book_id in (SELECT ratings.book_id AS cantidad FROM ratings GROUP BY ratings.book_id  HAVING COUNT(ratings.rating)>=50 ) \n",
    "            GROUP BY authors.author_id order by ROUND(AVG(ratings.rating),2) DESC \"\"\"\n",
    "\n",
    "resultado= pd.io.sql.read_sql(consulta, con = engine),\n",
    "\n",
    "display(resultado)\n",
    "\n"
   ]
  },
  {
   "cell_type": "markdown",
   "id": "29c82244",
   "metadata": {},
   "source": [
    "Las autoras J.K. Rolling  y Mary GrandPré son las autoras con la mayor calificación promedio de 4.29, seguidas por Markus Zusak, Cao Xuân Việt Khương con 4.26. "
   ]
  },
  {
   "cell_type": "markdown",
   "id": "95e47cb7",
   "metadata": {},
   "source": [
    "#### Encuentra el número promedio de reseñas de texto entre los usuarios que calificaron más de 50 libros."
   ]
  },
  {
   "cell_type": "code",
   "execution_count": 23,
   "id": "1e53d178",
   "metadata": {},
   "outputs": [
    {
     "data": {
      "text/plain": [
       "(    book_id                                              libro  \\\n",
       " 0       948                            Twilight (Twilight  #1)   \n",
       " 1       779  The Lightning Thief (Percy Jackson and the Oly...   \n",
       " 2       750                The Hobbit  or There and Back Again   \n",
       " 3       733                          The Giver (The Giver  #1)   \n",
       " 4       722  The Fellowship of the Ring (The Lord of the Ri...   \n",
       " 5       696             The Da Vinci Code (Robert Langdon  #2)   \n",
       " 6       673                             The Catcher in the Rye   \n",
       " 7       656                                     The Book Thief   \n",
       " 8       627                                      The Alchemist   \n",
       " 9       545                                   Romeo and Juliet   \n",
       " 10      488                                    Of Mice and Men   \n",
       " 11      405                                  Lord of the Flies   \n",
       " 12      399                                       Little Women   \n",
       " 13      302  Harry Potter and the Prisoner of Azkaban (Harr...   \n",
       " 14      301  Harry Potter and the Order of the Phoenix (Har...   \n",
       " 15      300  Harry Potter and the Half-Blood Prince (Harry ...   \n",
       " 16      299  Harry Potter and the Chamber of Secrets (Harry...   \n",
       " 17       79                                        Animal Farm   \n",
       " 18       75               Angels & Demons (Robert Langdon  #1)   \n",
       " \n",
       "     promedio_reseñas  \n",
       " 0             2646.0  \n",
       " 1             2166.5  \n",
       " 2             2086.5  \n",
       " 3             2033.5  \n",
       " 4             1996.0  \n",
       " 5             1927.5  \n",
       " 6             1853.5  \n",
       " 7             1811.5  \n",
       " 8             1725.5  \n",
       " 9             1501.0  \n",
       " 10            1349.0  \n",
       " 11            1098.0  \n",
       " 12            1082.0  \n",
       " 13             823.5  \n",
       " 14             818.0  \n",
       " 15             813.0  \n",
       " 16             807.5  \n",
       " 17             230.0  \n",
       " 18             218.0  ,)"
      ]
     },
     "metadata": {},
     "output_type": "display_data"
    }
   ],
   "source": [
    "#Encuentra el número promedio de reseñas de texto entre los usuarios que calificaron más de 50 libros.\n",
    "\n",
    "consulta=\"\"\"SELECT reviews.book_id,books.title as Libro, AVG(reviews.review_id) as promedio_reseñas \n",
    "        FROM reviews\n",
    "        JOIN books ON  books.book_id= reviews.book_id\n",
    "        JOIN ratings ON reviews.book_id=ratings.book_id WHERE reviews.book_id in \n",
    "        ( Select ratings.book_id FROM ratings GROUP BY ratings.book_id  HAVING COUNT(ratings.rating)>=50 ) \n",
    "        GROUP BY reviews.book_id ,books.title\n",
    "        ORDER BY AVG(reviews.review_id) DESC \"\"\"\n",
    "\n",
    "resultado= pd.io.sql.read_sql(consulta, con = engine),\n",
    "\n",
    "display(resultado)"
   ]
  },
  {
   "cell_type": "markdown",
   "id": "b93c98b9",
   "metadata": {},
   "source": [
    "The Twilight tiene el mayor número de reseñas promedios con 2646, le sigue The Lightning Thief con 2166,5. El que menos reseñas promedio tiene es  Angels & Demons con 218"
   ]
  },
  {
   "cell_type": "markdown",
   "id": "aa78ee3d",
   "metadata": {},
   "source": [
    "### Resumen\n",
    "\n",
    "* Se realizó conexión a una base de datos, y se extrageron tablas que contienen información de libros, editoriales, autores, y reseñas\n",
    "\n",
    "* Se realizó el analisis exploratorio de cada una de las tablas en busqueda de filas duplicadas, valores en blanco y valores Null\n",
    "\n",
    "* Se determinó que después del 1 de enero del 2020 se publicaron 819 libros\n",
    "\n",
    "* Se puedo observar que los tres primero libros tienen la mayor calificación del dataset con 5 puntos, pero tienen solo 2 reseñas, mientras que el último libro solo tiene una clasificación de 3.66 puntos pero tiene un alto número de reseñas 1120, esto indica que no siempre un alto número de reseñas permite obtener altas calificaiones.\n",
    "\n",
    "* La editorial Penguin Books es la editorial que más libros ha publicado con 42 libros de más de 50 páginas\n",
    "\n",
    "* Las autoras J.K. Rolling y Mary GrandPré son las autoras con la mayor calificación promedio de 4.29, por el contrario John Steinbeck tiene la calificación más baja con 3.62\n",
    "\n",
    "* The Twilight tiene el mayor número de reseñas promedios con 2646, le sigue The Lightning Thief con 2166,5. El que menos reseñas promedio tiene es  Angels & Demons con 218"
   ]
  }
 ],
 "metadata": {
  "kernelspec": {
   "display_name": "Python 3 (ipykernel)",
   "language": "python",
   "name": "python3"
  },
  "language_info": {
   "codemirror_mode": {
    "name": "ipython",
    "version": 3
   },
   "file_extension": ".py",
   "mimetype": "text/x-python",
   "name": "python",
   "nbconvert_exporter": "python",
   "pygments_lexer": "ipython3",
   "version": "3.9.5"
  },
  "toc": {
   "base_numbering": 1,
   "nav_menu": {},
   "number_sections": true,
   "sideBar": true,
   "skip_h1_title": true,
   "title_cell": "Table of Contents",
   "title_sidebar": "Contents",
   "toc_cell": false,
   "toc_position": {},
   "toc_section_display": true,
   "toc_window_display": false
  }
 },
 "nbformat": 4,
 "nbformat_minor": 5
}
